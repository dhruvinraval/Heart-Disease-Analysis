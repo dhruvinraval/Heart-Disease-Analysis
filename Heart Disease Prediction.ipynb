{
 "cells": [
  {
   "cell_type": "code",
   "execution_count": 1,
   "id": "f0024266",
   "metadata": {},
   "outputs": [],
   "source": [
    "import pandas as pd\n"
   ]
  },
  {
   "cell_type": "markdown",
   "id": "06887176",
   "metadata": {},
   "source": [
    "# Load the file"
   ]
  },
  {
   "cell_type": "code",
   "execution_count": 2,
   "id": "7f08d0e0",
   "metadata": {},
   "outputs": [
    {
     "data": {
      "text/html": [
       "<div>\n",
       "<style scoped>\n",
       "    .dataframe tbody tr th:only-of-type {\n",
       "        vertical-align: middle;\n",
       "    }\n",
       "\n",
       "    .dataframe tbody tr th {\n",
       "        vertical-align: top;\n",
       "    }\n",
       "\n",
       "    .dataframe thead th {\n",
       "        text-align: right;\n",
       "    }\n",
       "</style>\n",
       "<table border=\"1\" class=\"dataframe\">\n",
       "  <thead>\n",
       "    <tr style=\"text-align: right;\">\n",
       "      <th></th>\n",
       "      <th>age</th>\n",
       "      <th>sex</th>\n",
       "      <th>cp</th>\n",
       "      <th>trtbps</th>\n",
       "      <th>chol</th>\n",
       "      <th>fbs</th>\n",
       "      <th>restecg</th>\n",
       "      <th>thalachh</th>\n",
       "      <th>exng</th>\n",
       "      <th>oldpeak</th>\n",
       "      <th>slp</th>\n",
       "      <th>caa</th>\n",
       "      <th>thall</th>\n",
       "      <th>output</th>\n",
       "    </tr>\n",
       "  </thead>\n",
       "  <tbody>\n",
       "    <tr>\n",
       "      <th>0</th>\n",
       "      <td>63</td>\n",
       "      <td>1</td>\n",
       "      <td>3</td>\n",
       "      <td>145</td>\n",
       "      <td>233</td>\n",
       "      <td>1</td>\n",
       "      <td>0</td>\n",
       "      <td>150</td>\n",
       "      <td>0</td>\n",
       "      <td>2.3</td>\n",
       "      <td>0</td>\n",
       "      <td>0</td>\n",
       "      <td>1</td>\n",
       "      <td>1</td>\n",
       "    </tr>\n",
       "    <tr>\n",
       "      <th>1</th>\n",
       "      <td>37</td>\n",
       "      <td>1</td>\n",
       "      <td>2</td>\n",
       "      <td>130</td>\n",
       "      <td>250</td>\n",
       "      <td>0</td>\n",
       "      <td>1</td>\n",
       "      <td>187</td>\n",
       "      <td>0</td>\n",
       "      <td>3.5</td>\n",
       "      <td>0</td>\n",
       "      <td>0</td>\n",
       "      <td>2</td>\n",
       "      <td>1</td>\n",
       "    </tr>\n",
       "    <tr>\n",
       "      <th>2</th>\n",
       "      <td>41</td>\n",
       "      <td>0</td>\n",
       "      <td>1</td>\n",
       "      <td>130</td>\n",
       "      <td>204</td>\n",
       "      <td>0</td>\n",
       "      <td>0</td>\n",
       "      <td>172</td>\n",
       "      <td>0</td>\n",
       "      <td>1.4</td>\n",
       "      <td>2</td>\n",
       "      <td>0</td>\n",
       "      <td>2</td>\n",
       "      <td>1</td>\n",
       "    </tr>\n",
       "    <tr>\n",
       "      <th>3</th>\n",
       "      <td>56</td>\n",
       "      <td>1</td>\n",
       "      <td>1</td>\n",
       "      <td>120</td>\n",
       "      <td>236</td>\n",
       "      <td>0</td>\n",
       "      <td>1</td>\n",
       "      <td>178</td>\n",
       "      <td>0</td>\n",
       "      <td>0.8</td>\n",
       "      <td>2</td>\n",
       "      <td>0</td>\n",
       "      <td>2</td>\n",
       "      <td>1</td>\n",
       "    </tr>\n",
       "    <tr>\n",
       "      <th>4</th>\n",
       "      <td>57</td>\n",
       "      <td>0</td>\n",
       "      <td>0</td>\n",
       "      <td>120</td>\n",
       "      <td>354</td>\n",
       "      <td>0</td>\n",
       "      <td>1</td>\n",
       "      <td>163</td>\n",
       "      <td>1</td>\n",
       "      <td>0.6</td>\n",
       "      <td>2</td>\n",
       "      <td>0</td>\n",
       "      <td>2</td>\n",
       "      <td>1</td>\n",
       "    </tr>\n",
       "    <tr>\n",
       "      <th>...</th>\n",
       "      <td>...</td>\n",
       "      <td>...</td>\n",
       "      <td>...</td>\n",
       "      <td>...</td>\n",
       "      <td>...</td>\n",
       "      <td>...</td>\n",
       "      <td>...</td>\n",
       "      <td>...</td>\n",
       "      <td>...</td>\n",
       "      <td>...</td>\n",
       "      <td>...</td>\n",
       "      <td>...</td>\n",
       "      <td>...</td>\n",
       "      <td>...</td>\n",
       "    </tr>\n",
       "    <tr>\n",
       "      <th>298</th>\n",
       "      <td>57</td>\n",
       "      <td>0</td>\n",
       "      <td>0</td>\n",
       "      <td>140</td>\n",
       "      <td>241</td>\n",
       "      <td>0</td>\n",
       "      <td>1</td>\n",
       "      <td>123</td>\n",
       "      <td>1</td>\n",
       "      <td>0.2</td>\n",
       "      <td>1</td>\n",
       "      <td>0</td>\n",
       "      <td>3</td>\n",
       "      <td>0</td>\n",
       "    </tr>\n",
       "    <tr>\n",
       "      <th>299</th>\n",
       "      <td>45</td>\n",
       "      <td>1</td>\n",
       "      <td>3</td>\n",
       "      <td>110</td>\n",
       "      <td>264</td>\n",
       "      <td>0</td>\n",
       "      <td>1</td>\n",
       "      <td>132</td>\n",
       "      <td>0</td>\n",
       "      <td>1.2</td>\n",
       "      <td>1</td>\n",
       "      <td>0</td>\n",
       "      <td>3</td>\n",
       "      <td>0</td>\n",
       "    </tr>\n",
       "    <tr>\n",
       "      <th>300</th>\n",
       "      <td>68</td>\n",
       "      <td>1</td>\n",
       "      <td>0</td>\n",
       "      <td>144</td>\n",
       "      <td>193</td>\n",
       "      <td>1</td>\n",
       "      <td>1</td>\n",
       "      <td>141</td>\n",
       "      <td>0</td>\n",
       "      <td>3.4</td>\n",
       "      <td>1</td>\n",
       "      <td>2</td>\n",
       "      <td>3</td>\n",
       "      <td>0</td>\n",
       "    </tr>\n",
       "    <tr>\n",
       "      <th>301</th>\n",
       "      <td>57</td>\n",
       "      <td>1</td>\n",
       "      <td>0</td>\n",
       "      <td>130</td>\n",
       "      <td>131</td>\n",
       "      <td>0</td>\n",
       "      <td>1</td>\n",
       "      <td>115</td>\n",
       "      <td>1</td>\n",
       "      <td>1.2</td>\n",
       "      <td>1</td>\n",
       "      <td>1</td>\n",
       "      <td>3</td>\n",
       "      <td>0</td>\n",
       "    </tr>\n",
       "    <tr>\n",
       "      <th>302</th>\n",
       "      <td>57</td>\n",
       "      <td>0</td>\n",
       "      <td>1</td>\n",
       "      <td>130</td>\n",
       "      <td>236</td>\n",
       "      <td>0</td>\n",
       "      <td>0</td>\n",
       "      <td>174</td>\n",
       "      <td>0</td>\n",
       "      <td>0.0</td>\n",
       "      <td>1</td>\n",
       "      <td>1</td>\n",
       "      <td>2</td>\n",
       "      <td>0</td>\n",
       "    </tr>\n",
       "  </tbody>\n",
       "</table>\n",
       "<p>303 rows × 14 columns</p>\n",
       "</div>"
      ],
      "text/plain": [
       "     age  sex  cp  trtbps  chol  fbs  restecg  thalachh  exng  oldpeak  slp  \\\n",
       "0     63    1   3     145   233    1        0       150     0      2.3    0   \n",
       "1     37    1   2     130   250    0        1       187     0      3.5    0   \n",
       "2     41    0   1     130   204    0        0       172     0      1.4    2   \n",
       "3     56    1   1     120   236    0        1       178     0      0.8    2   \n",
       "4     57    0   0     120   354    0        1       163     1      0.6    2   \n",
       "..   ...  ...  ..     ...   ...  ...      ...       ...   ...      ...  ...   \n",
       "298   57    0   0     140   241    0        1       123     1      0.2    1   \n",
       "299   45    1   3     110   264    0        1       132     0      1.2    1   \n",
       "300   68    1   0     144   193    1        1       141     0      3.4    1   \n",
       "301   57    1   0     130   131    0        1       115     1      1.2    1   \n",
       "302   57    0   1     130   236    0        0       174     0      0.0    1   \n",
       "\n",
       "     caa  thall  output  \n",
       "0      0      1       1  \n",
       "1      0      2       1  \n",
       "2      0      2       1  \n",
       "3      0      2       1  \n",
       "4      0      2       1  \n",
       "..   ...    ...     ...  \n",
       "298    0      3       0  \n",
       "299    0      3       0  \n",
       "300    2      3       0  \n",
       "301    1      3       0  \n",
       "302    1      2       0  \n",
       "\n",
       "[303 rows x 14 columns]"
      ]
     },
     "execution_count": 2,
     "metadata": {},
     "output_type": "execute_result"
    }
   ],
   "source": [
    "# Load the CSV file\n",
    "df = pd.read_csv(\"heart.csv\")\n",
    "df"
   ]
  },
  {
   "cell_type": "code",
   "execution_count": 3,
   "id": "581dc35b",
   "metadata": {
    "scrolled": true
   },
   "outputs": [
    {
     "name": "stdout",
     "output_type": "stream",
     "text": [
      "Original Columns and Data Types:\n",
      "age           int64\n",
      "sex           int64\n",
      "cp            int64\n",
      "trtbps        int64\n",
      "chol          int64\n",
      "fbs           int64\n",
      "restecg       int64\n",
      "thalachh      int64\n",
      "exng          int64\n",
      "oldpeak     float64\n",
      "slp           int64\n",
      "caa           int64\n",
      "thall         int64\n",
      "output        int64\n",
      "dtype: object\n"
     ]
    }
   ],
   "source": [
    "# Display the original column names and data types\n",
    "print(\"Original Columns and Data Types:\")\n",
    "print(df.dtypes)\n"
   ]
  },
  {
   "cell_type": "code",
   "execution_count": 4,
   "id": "30b0b719",
   "metadata": {},
   "outputs": [],
   "source": [
    "# Define a mapping for renaming the columns\n",
    "column_renames = {\n",
    "    'cp': 'chest_pain_types',  # Replace with actual old and new column names\n",
    "    'trtbps': 'resting_blood_pressure',\n",
    "    'chol': 'cholesterol',\n",
    "    'fbs' : 'fasting_blood_sugar',\n",
    "    'restecg' : 'resting_electrocardiographic_results',\n",
    "    'thalachh' : 'max_heart_rate',\n",
    "    'exng' : 'exercise_induced_angina',\n",
    "    'slp' : 'slope',\n",
    "    'thall' : 'thalassemia',\n",
    "    'output' : 'heart_disease'\n",
    "    # Add more columns as needed\n",
    "}"
   ]
  },
  {
   "cell_type": "code",
   "execution_count": 5,
   "id": "bccb1590",
   "metadata": {},
   "outputs": [
    {
     "data": {
      "text/plain": [
       "{'cp': 'chest_pain_types',\n",
       " 'trtbps': 'resting_blood_pressure',\n",
       " 'chol': 'cholesterol',\n",
       " 'fbs': 'fasting_blood_sugar',\n",
       " 'restecg': 'resting_electrocardiographic_results',\n",
       " 'thalachh': 'max_heart_rate',\n",
       " 'exng': 'exercise_induced_angina',\n",
       " 'slp': 'slope',\n",
       " 'thall': 'thalassemia',\n",
       " 'output': 'heart_disease'}"
      ]
     },
     "execution_count": 5,
     "metadata": {},
     "output_type": "execute_result"
    }
   ],
   "source": [
    "column_renames"
   ]
  },
  {
   "cell_type": "code",
   "execution_count": 6,
   "id": "11802baa",
   "metadata": {},
   "outputs": [],
   "source": [
    "df.rename(columns=column_renames, inplace=True)"
   ]
  },
  {
   "cell_type": "code",
   "execution_count": 7,
   "id": "2f394766",
   "metadata": {},
   "outputs": [
    {
     "name": "stdout",
     "output_type": "stream",
     "text": [
      "\n",
      "Updated Columns\n",
      "age                                       int64\n",
      "sex                                       int64\n",
      "chest_pain_types                          int64\n",
      "resting_blood_pressure                    int64\n",
      "cholesterol                               int64\n",
      "fasting_blood_sugar                       int64\n",
      "resting_electrocardiographic_results      int64\n",
      "max_heart_rate                            int64\n",
      "exercise_induced_angina                   int64\n",
      "oldpeak                                 float64\n",
      "slope                                     int64\n",
      "caa                                       int64\n",
      "thalassemia                               int64\n",
      "heart_disease                             int64\n",
      "dtype: object\n"
     ]
    }
   ],
   "source": [
    "print(\"\\nUpdated Columns\")\n",
    "print(df.dtypes)"
   ]
  },
  {
   "cell_type": "code",
   "execution_count": 8,
   "id": "0645885e",
   "metadata": {},
   "outputs": [
    {
     "data": {
      "text/html": [
       "<div>\n",
       "<style scoped>\n",
       "    .dataframe tbody tr th:only-of-type {\n",
       "        vertical-align: middle;\n",
       "    }\n",
       "\n",
       "    .dataframe tbody tr th {\n",
       "        vertical-align: top;\n",
       "    }\n",
       "\n",
       "    .dataframe thead th {\n",
       "        text-align: right;\n",
       "    }\n",
       "</style>\n",
       "<table border=\"1\" class=\"dataframe\">\n",
       "  <thead>\n",
       "    <tr style=\"text-align: right;\">\n",
       "      <th></th>\n",
       "      <th>age</th>\n",
       "      <th>sex</th>\n",
       "      <th>chest_pain_types</th>\n",
       "      <th>resting_blood_pressure</th>\n",
       "      <th>cholesterol</th>\n",
       "      <th>fasting_blood_sugar</th>\n",
       "      <th>resting_electrocardiographic_results</th>\n",
       "      <th>max_heart_rate</th>\n",
       "      <th>exercise_induced_angina</th>\n",
       "      <th>oldpeak</th>\n",
       "      <th>slope</th>\n",
       "      <th>caa</th>\n",
       "      <th>thalassemia</th>\n",
       "      <th>heart_disease</th>\n",
       "    </tr>\n",
       "  </thead>\n",
       "  <tbody>\n",
       "    <tr>\n",
       "      <th>0</th>\n",
       "      <td>63</td>\n",
       "      <td>1</td>\n",
       "      <td>3</td>\n",
       "      <td>145</td>\n",
       "      <td>233</td>\n",
       "      <td>1</td>\n",
       "      <td>0</td>\n",
       "      <td>150</td>\n",
       "      <td>0</td>\n",
       "      <td>2.3</td>\n",
       "      <td>0</td>\n",
       "      <td>0</td>\n",
       "      <td>1</td>\n",
       "      <td>1</td>\n",
       "    </tr>\n",
       "    <tr>\n",
       "      <th>1</th>\n",
       "      <td>37</td>\n",
       "      <td>1</td>\n",
       "      <td>2</td>\n",
       "      <td>130</td>\n",
       "      <td>250</td>\n",
       "      <td>0</td>\n",
       "      <td>1</td>\n",
       "      <td>187</td>\n",
       "      <td>0</td>\n",
       "      <td>3.5</td>\n",
       "      <td>0</td>\n",
       "      <td>0</td>\n",
       "      <td>2</td>\n",
       "      <td>1</td>\n",
       "    </tr>\n",
       "    <tr>\n",
       "      <th>2</th>\n",
       "      <td>41</td>\n",
       "      <td>0</td>\n",
       "      <td>1</td>\n",
       "      <td>130</td>\n",
       "      <td>204</td>\n",
       "      <td>0</td>\n",
       "      <td>0</td>\n",
       "      <td>172</td>\n",
       "      <td>0</td>\n",
       "      <td>1.4</td>\n",
       "      <td>2</td>\n",
       "      <td>0</td>\n",
       "      <td>2</td>\n",
       "      <td>1</td>\n",
       "    </tr>\n",
       "    <tr>\n",
       "      <th>3</th>\n",
       "      <td>56</td>\n",
       "      <td>1</td>\n",
       "      <td>1</td>\n",
       "      <td>120</td>\n",
       "      <td>236</td>\n",
       "      <td>0</td>\n",
       "      <td>1</td>\n",
       "      <td>178</td>\n",
       "      <td>0</td>\n",
       "      <td>0.8</td>\n",
       "      <td>2</td>\n",
       "      <td>0</td>\n",
       "      <td>2</td>\n",
       "      <td>1</td>\n",
       "    </tr>\n",
       "    <tr>\n",
       "      <th>4</th>\n",
       "      <td>57</td>\n",
       "      <td>0</td>\n",
       "      <td>0</td>\n",
       "      <td>120</td>\n",
       "      <td>354</td>\n",
       "      <td>0</td>\n",
       "      <td>1</td>\n",
       "      <td>163</td>\n",
       "      <td>1</td>\n",
       "      <td>0.6</td>\n",
       "      <td>2</td>\n",
       "      <td>0</td>\n",
       "      <td>2</td>\n",
       "      <td>1</td>\n",
       "    </tr>\n",
       "    <tr>\n",
       "      <th>...</th>\n",
       "      <td>...</td>\n",
       "      <td>...</td>\n",
       "      <td>...</td>\n",
       "      <td>...</td>\n",
       "      <td>...</td>\n",
       "      <td>...</td>\n",
       "      <td>...</td>\n",
       "      <td>...</td>\n",
       "      <td>...</td>\n",
       "      <td>...</td>\n",
       "      <td>...</td>\n",
       "      <td>...</td>\n",
       "      <td>...</td>\n",
       "      <td>...</td>\n",
       "    </tr>\n",
       "    <tr>\n",
       "      <th>298</th>\n",
       "      <td>57</td>\n",
       "      <td>0</td>\n",
       "      <td>0</td>\n",
       "      <td>140</td>\n",
       "      <td>241</td>\n",
       "      <td>0</td>\n",
       "      <td>1</td>\n",
       "      <td>123</td>\n",
       "      <td>1</td>\n",
       "      <td>0.2</td>\n",
       "      <td>1</td>\n",
       "      <td>0</td>\n",
       "      <td>3</td>\n",
       "      <td>0</td>\n",
       "    </tr>\n",
       "    <tr>\n",
       "      <th>299</th>\n",
       "      <td>45</td>\n",
       "      <td>1</td>\n",
       "      <td>3</td>\n",
       "      <td>110</td>\n",
       "      <td>264</td>\n",
       "      <td>0</td>\n",
       "      <td>1</td>\n",
       "      <td>132</td>\n",
       "      <td>0</td>\n",
       "      <td>1.2</td>\n",
       "      <td>1</td>\n",
       "      <td>0</td>\n",
       "      <td>3</td>\n",
       "      <td>0</td>\n",
       "    </tr>\n",
       "    <tr>\n",
       "      <th>300</th>\n",
       "      <td>68</td>\n",
       "      <td>1</td>\n",
       "      <td>0</td>\n",
       "      <td>144</td>\n",
       "      <td>193</td>\n",
       "      <td>1</td>\n",
       "      <td>1</td>\n",
       "      <td>141</td>\n",
       "      <td>0</td>\n",
       "      <td>3.4</td>\n",
       "      <td>1</td>\n",
       "      <td>2</td>\n",
       "      <td>3</td>\n",
       "      <td>0</td>\n",
       "    </tr>\n",
       "    <tr>\n",
       "      <th>301</th>\n",
       "      <td>57</td>\n",
       "      <td>1</td>\n",
       "      <td>0</td>\n",
       "      <td>130</td>\n",
       "      <td>131</td>\n",
       "      <td>0</td>\n",
       "      <td>1</td>\n",
       "      <td>115</td>\n",
       "      <td>1</td>\n",
       "      <td>1.2</td>\n",
       "      <td>1</td>\n",
       "      <td>1</td>\n",
       "      <td>3</td>\n",
       "      <td>0</td>\n",
       "    </tr>\n",
       "    <tr>\n",
       "      <th>302</th>\n",
       "      <td>57</td>\n",
       "      <td>0</td>\n",
       "      <td>1</td>\n",
       "      <td>130</td>\n",
       "      <td>236</td>\n",
       "      <td>0</td>\n",
       "      <td>0</td>\n",
       "      <td>174</td>\n",
       "      <td>0</td>\n",
       "      <td>0.0</td>\n",
       "      <td>1</td>\n",
       "      <td>1</td>\n",
       "      <td>2</td>\n",
       "      <td>0</td>\n",
       "    </tr>\n",
       "  </tbody>\n",
       "</table>\n",
       "<p>303 rows × 14 columns</p>\n",
       "</div>"
      ],
      "text/plain": [
       "     age  sex  chest_pain_types  resting_blood_pressure  cholesterol  \\\n",
       "0     63    1                 3                     145          233   \n",
       "1     37    1                 2                     130          250   \n",
       "2     41    0                 1                     130          204   \n",
       "3     56    1                 1                     120          236   \n",
       "4     57    0                 0                     120          354   \n",
       "..   ...  ...               ...                     ...          ...   \n",
       "298   57    0                 0                     140          241   \n",
       "299   45    1                 3                     110          264   \n",
       "300   68    1                 0                     144          193   \n",
       "301   57    1                 0                     130          131   \n",
       "302   57    0                 1                     130          236   \n",
       "\n",
       "     fasting_blood_sugar  resting_electrocardiographic_results  \\\n",
       "0                      1                                     0   \n",
       "1                      0                                     1   \n",
       "2                      0                                     0   \n",
       "3                      0                                     1   \n",
       "4                      0                                     1   \n",
       "..                   ...                                   ...   \n",
       "298                    0                                     1   \n",
       "299                    0                                     1   \n",
       "300                    1                                     1   \n",
       "301                    0                                     1   \n",
       "302                    0                                     0   \n",
       "\n",
       "     max_heart_rate  exercise_induced_angina  oldpeak  slope  caa  \\\n",
       "0               150                        0      2.3      0    0   \n",
       "1               187                        0      3.5      0    0   \n",
       "2               172                        0      1.4      2    0   \n",
       "3               178                        0      0.8      2    0   \n",
       "4               163                        1      0.6      2    0   \n",
       "..              ...                      ...      ...    ...  ...   \n",
       "298             123                        1      0.2      1    0   \n",
       "299             132                        0      1.2      1    0   \n",
       "300             141                        0      3.4      1    2   \n",
       "301             115                        1      1.2      1    1   \n",
       "302             174                        0      0.0      1    1   \n",
       "\n",
       "     thalassemia  heart_disease  \n",
       "0              1              1  \n",
       "1              2              1  \n",
       "2              2              1  \n",
       "3              2              1  \n",
       "4              2              1  \n",
       "..           ...            ...  \n",
       "298            3              0  \n",
       "299            3              0  \n",
       "300            3              0  \n",
       "301            3              0  \n",
       "302            2              0  \n",
       "\n",
       "[303 rows x 14 columns]"
      ]
     },
     "execution_count": 8,
     "metadata": {},
     "output_type": "execute_result"
    }
   ],
   "source": [
    "df"
   ]
  },
  {
   "cell_type": "code",
   "execution_count": 9,
   "id": "6a22ff46",
   "metadata": {},
   "outputs": [
    {
     "name": "stdout",
     "output_type": "stream",
     "text": [
      "\n",
      "Updated Values for sex with First 5 Rows:\n",
      "   age     sex  chest_pain_types  resting_blood_pressure  cholesterol  \\\n",
      "0   63    Male                 3                     145          233   \n",
      "1   37    Male                 2                     130          250   \n",
      "2   41  Female                 1                     130          204   \n",
      "3   56    Male                 1                     120          236   \n",
      "4   57  Female                 0                     120          354   \n",
      "\n",
      "  fasting_blood_sugar  resting_electrocardiographic_results  max_heart_rate  \\\n",
      "0                True                                     0             150   \n",
      "1               False                                     1             187   \n",
      "2               False                                     0             172   \n",
      "3               False                                     1             178   \n",
      "4               False                                     1             163   \n",
      "\n",
      "   exercise_induced_angina  oldpeak  slope  caa   thalassemia heart_disease  \n",
      "0                        0      2.3      0    0        Normal           Yes  \n",
      "1                        0      3.5      0    0  Fixed defect           Yes  \n",
      "2                        0      1.4      2    0  Fixed defect           Yes  \n",
      "3                        0      0.8      2    0  Fixed defect           Yes  \n",
      "4                        1      0.6      2    0  Fixed defect           Yes  \n"
     ]
    }
   ],
   "source": [
    "# Replace integer values in the 'sex','fasting_blood_sugar  (1 = true, 0 = false)','Exercise induced angina',\n",
    "#'Thalassemia (1 = normal, 2 = fixed defect, 3 = reversible defect)','heart disease (1='yes',0='no')' column with text labels\n",
    "\n",
    "df['sex'] = df['sex'].replace({0: 'Female', 1: 'Male'})\n",
    "df['fasting_blood_sugar'] = df['fasting_blood_sugar'].replace({0:'False',1:'True'})\n",
    "df['thalassemia'] = df ['thalassemia'].replace({1:'Normal',2:'Fixed defect',3:'Reversible defect'})\n",
    "df['heart_disease'] = df['heart_disease'].replace({1:'Yes', 0:'No'})\n",
    "print(\"\\nUpdated Values for sex with First 5 Rows:\")\n",
    "print(df.head())"
   ]
  },
  {
   "cell_type": "code",
   "execution_count": 10,
   "id": "c8eacfd2",
   "metadata": {
    "scrolled": true
   },
   "outputs": [
    {
     "name": "stdout",
     "output_type": "stream",
     "text": [
      "age                                       int64\n",
      "sex                                      object\n",
      "chest_pain_types                          int64\n",
      "resting_blood_pressure                    int64\n",
      "cholesterol                               int64\n",
      "fasting_blood_sugar                      object\n",
      "resting_electrocardiographic_results      int64\n",
      "max_heart_rate                            int64\n",
      "exercise_induced_angina                   int64\n",
      "oldpeak                                 float64\n",
      "slope                                     int64\n",
      "caa                                       int64\n",
      "thalassemia                              object\n",
      "heart_disease                            object\n",
      "dtype: object\n"
     ]
    }
   ],
   "source": [
    "print(df.dtypes)"
   ]
  },
  {
   "cell_type": "code",
   "execution_count": 11,
   "id": "72946508",
   "metadata": {},
   "outputs": [],
   "source": [
    "# Save the updated DataFrame to a new CSV file\n",
    "df.to_csv('heart_disease.csv', index=False)"
   ]
  },
  {
   "cell_type": "code",
   "execution_count": null,
   "id": "a4e12750",
   "metadata": {
    "scrolled": true
   },
   "outputs": [],
   "source": []
  },
  {
   "cell_type": "markdown",
   "id": "2499adf9",
   "metadata": {},
   "source": [
    "# Exploratory Data Analysis (EDA)"
   ]
  },
  {
   "cell_type": "code",
   "execution_count": 12,
   "id": "ddad84d3",
   "metadata": {},
   "outputs": [
    {
     "name": "stdout",
     "output_type": "stream",
     "text": [
      "              age  chest_pain_types  resting_blood_pressure  cholesterol  \\\n",
      "count  303.000000        303.000000              303.000000   303.000000   \n",
      "mean    54.366337          0.966997              131.623762   246.264026   \n",
      "std      9.082101          1.032052               17.538143    51.830751   \n",
      "min     29.000000          0.000000               94.000000   126.000000   \n",
      "25%     47.500000          0.000000              120.000000   211.000000   \n",
      "50%     55.000000          1.000000              130.000000   240.000000   \n",
      "75%     61.000000          2.000000              140.000000   274.500000   \n",
      "max     77.000000          3.000000              200.000000   564.000000   \n",
      "\n",
      "       resting_electrocardiographic_results  max_heart_rate  \\\n",
      "count                            303.000000      303.000000   \n",
      "mean                               0.528053      149.646865   \n",
      "std                                0.525860       22.905161   \n",
      "min                                0.000000       71.000000   \n",
      "25%                                0.000000      133.500000   \n",
      "50%                                1.000000      153.000000   \n",
      "75%                                1.000000      166.000000   \n",
      "max                                2.000000      202.000000   \n",
      "\n",
      "       exercise_induced_angina     oldpeak       slope         caa  \n",
      "count               303.000000  303.000000  303.000000  303.000000  \n",
      "mean                  0.326733    1.039604    1.399340    0.729373  \n",
      "std                   0.469794    1.161075    0.616226    1.022606  \n",
      "min                   0.000000    0.000000    0.000000    0.000000  \n",
      "25%                   0.000000    0.000000    1.000000    0.000000  \n",
      "50%                   0.000000    0.800000    1.000000    0.000000  \n",
      "75%                   1.000000    1.600000    2.000000    1.000000  \n",
      "max                   1.000000    6.200000    2.000000    4.000000  \n"
     ]
    }
   ],
   "source": [
    "# Get summary statistics for numerical columns\n",
    "print(df.describe())"
   ]
  },
  {
   "cell_type": "code",
   "execution_count": 13,
   "id": "2b0a587d",
   "metadata": {},
   "outputs": [
    {
     "name": "stdout",
     "output_type": "stream",
     "text": [
      "age                                     0\n",
      "sex                                     0\n",
      "chest_pain_types                        0\n",
      "resting_blood_pressure                  0\n",
      "cholesterol                             0\n",
      "fasting_blood_sugar                     0\n",
      "resting_electrocardiographic_results    0\n",
      "max_heart_rate                          0\n",
      "exercise_induced_angina                 0\n",
      "oldpeak                                 0\n",
      "slope                                   0\n",
      "caa                                     0\n",
      "thalassemia                             0\n",
      "heart_disease                           0\n",
      "dtype: int64\n"
     ]
    }
   ],
   "source": [
    "# Check for missing values in the dataset\n",
    "print(df.isnull().sum())"
   ]
  },
  {
   "cell_type": "code",
   "execution_count": 14,
   "id": "27fc7371",
   "metadata": {},
   "outputs": [],
   "source": [
    "import matplotlib.pyplot as plt"
   ]
  },
  {
   "cell_type": "code",
   "execution_count": 15,
   "id": "5fd035ee",
   "metadata": {},
   "outputs": [
    {
     "data": {
      "image/png": "[encoded data removed]",
      "text/plain": [
       "<Figure size 432x288 with 1 Axes>"
      ]
     },
     "metadata": {
      "needs_background": "light"
     },
     "output_type": "display_data"
    }
   ],
   "source": [
    "#Data distribution\n",
    "\n",
    "# Histogram PLot for age\n",
    "df['age'].hist(bins=10)\n",
    "plt.xlabel('Age')\n",
    "plt.ylabel('Frequency')\n",
    "plt.title('Age Distribution')\n",
    "plt.show()\n"
   ]
  },
  {
   "cell_type": "code",
   "execution_count": 16,
   "id": "9bb139e1",
   "metadata": {},
   "outputs": [
    {
     "name": "stdout",
     "output_type": "stream",
     "text": [
      "Male      207\n",
      "Female     96\n",
      "Name: sex, dtype: int64\n"
     ]
    }
   ],
   "source": [
    "# Check the distribution of the 'sex' column\n",
    "print(df['sex'].value_counts())"
   ]
  },
  {
   "cell_type": "markdown",
   "id": "31fe71a9",
   "metadata": {},
   "source": [
    "## Visualizing Data with matplotlib and seaborn"
   ]
  },
  {
   "cell_type": "code",
   "execution_count": 17,
   "id": "0ea9df46",
   "metadata": {},
   "outputs": [],
   "source": [
    "import seaborn as sns"
   ]
  },
  {
   "cell_type": "markdown",
   "id": "e8cb43b2",
   "metadata": {},
   "source": [
    "##### Visualize the correlation between different numerical variables to identify relationships between them."
   ]
  },
  {
   "cell_type": "code",
   "execution_count": 18,
   "id": "94757957",
   "metadata": {},
   "outputs": [
    {
     "data": {
      "image/png": "[encoded data removed]",
      "text/plain": [
       "<Figure size 720x576 with 2 Axes>"
      ]
     },
     "metadata": {
      "needs_background": "light"
     },
     "output_type": "display_data"
    }
   ],
   "source": [
    "# Calculate correlation matrix\n",
    "corr_matrix = df.corr()\n",
    "\n",
    "# Plot heatmap\n",
    "plt.figure(figsize=(10, 8))\n",
    "sns.heatmap(corr_matrix, annot=True, cmap='coolwarm', linewidths=0.5)\n",
    "plt.title('Correlation Matrix')\n",
    "plt.show()"
   ]
  },
  {
   "cell_type": "markdown",
   "id": "628bd87c",
   "metadata": {},
   "source": [
    "##### The code calculates the correlation matrix for the variables of the heart_disease.csv dataset, showing the relationships between different heart-related features using pairwise correlation coefficients.\n",
    "##### It visualizes the correlation matrix as a heatmap with annotated values and color gradients, helping to identify positive and negative correlations between the heart-related variables in the dataset. "
   ]
  },
  {
   "cell_type": "markdown",
   "id": "4ade2fa1",
   "metadata": {},
   "source": [
    "### Box Plot for Outlier Detection\n",
    "##### A box plot helps identify outliers and understand the spread of data for numeric columns."
   ]
  },
  {
   "cell_type": "code",
   "execution_count": 19,
   "id": "6dddb15e",
   "metadata": {
    "scrolled": true
   },
   "outputs": [
    {
     "data": {
      "image/png": "[encoded data removed]",
      "text/plain": [
       "<Figure size 432x288 with 1 Axes>"
      ]
     },
     "metadata": {
      "needs_background": "light"
     },
     "output_type": "display_data"
    }
   ],
   "source": [
    "# Boxplot for cholesterol levels\n",
    "sns.boxplot(x=df['cholesterol'])\n",
    "plt.title('Cholesterol Levels')\n",
    "plt.show()"
   ]
  },
  {
   "cell_type": "markdown",
   "id": "67bc05c2",
   "metadata": {},
   "source": [
    "###  Scatter Plot to Visualize Relationships"
   ]
  },
  {
   "cell_type": "code",
   "execution_count": 20,
   "id": "9ac07342",
   "metadata": {},
   "outputs": [
    {
     "data": {
      "image/png": "[encoded data removed]",
      "text/plain": [
       "<Figure size 432x288 with 1 Axes>"
      ]
     },
     "metadata": {
      "needs_background": "light"
     },
     "output_type": "display_data"
    }
   ],
   "source": [
    "# Scatter plot for age vs cholesterol\n",
    "plt.scatter(df['age'], df['cholesterol'])\n",
    "plt.xlabel('Age')\n",
    "plt.ylabel('Cholesterol')\n",
    "plt.title('Age vs Cholesterol')\n",
    "plt.show()"
   ]
  },
  {
   "cell_type": "markdown",
   "id": "ce4c9cfa",
   "metadata": {},
   "source": [
    "###  Grouping and Aggregation\n",
    "##### Group the data by categorical columns and apply aggregate functions to analyze the data. "
   ]
  },
  {
   "cell_type": "code",
   "execution_count": 21,
   "id": "79707ac8",
   "metadata": {},
   "outputs": [
    {
     "name": "stdout",
     "output_type": "stream",
     "text": [
      "              age  cholesterol\n",
      "sex                           \n",
      "Female  55.677083   261.302083\n",
      "Male    53.758454   239.289855\n"
     ]
    }
   ],
   "source": [
    "# Group by sex and calculate mean age and cholesterol\n",
    "grouped = df.groupby('sex').agg({'age': 'mean', 'cholesterol': 'mean'})\n",
    "print(grouped)\n"
   ]
  },
  {
   "cell_type": "markdown",
   "id": "92b92fc5",
   "metadata": {},
   "source": [
    "### Feature Engineering\n",
    "##### Categorizing age into bins or age groups."
   ]
  },
  {
   "cell_type": "code",
   "execution_count": 22,
   "id": "460c48bb",
   "metadata": {},
   "outputs": [
    {
     "name": "stdout",
     "output_type": "stream",
     "text": [
      "   age    age_group\n",
      "0   63       Senior\n",
      "1   37  Middle-aged\n",
      "2   41  Middle-aged\n",
      "3   56       Senior\n",
      "4   57       Senior\n"
     ]
    }
   ],
   "source": [
    "# Categorize age into age groups\n",
    "bins = [0, 30, 50, 70, 100]\n",
    "labels = ['Young', 'Middle-aged', 'Senior', 'Elderly']\n",
    "df['age_group'] = pd.cut(df['age'], bins=bins, labels=labels)\n",
    "print(df[['age', 'age_group']].head())"
   ]
  },
  {
   "cell_type": "code",
   "execution_count": 23,
   "id": "124e45fa",
   "metadata": {
    "scrolled": true
   },
   "outputs": [
    {
     "name": "stdout",
     "output_type": "stream",
     "text": [
      "     age_group heart_disease\n",
      "0       Senior           Yes\n",
      "1  Middle-aged           Yes\n",
      "2  Middle-aged           Yes\n",
      "3       Senior           Yes\n",
      "4       Senior           Yes\n"
     ]
    }
   ],
   "source": [
    "print(df[['age_group','heart_disease']].head())"
   ]
  },
  {
   "cell_type": "markdown",
   "id": "83f90f3b",
   "metadata": {},
   "source": [
    "##### Comparing \"Age Group\" and \"Heart Disease\""
   ]
  },
  {
   "cell_type": "code",
   "execution_count": 24,
   "id": "5433a3c9",
   "metadata": {},
   "outputs": [
    {
     "data": {
      "text/html": [
       "<div>\n",
       "<style scoped>\n",
       "    .dataframe tbody tr th:only-of-type {\n",
       "        vertical-align: middle;\n",
       "    }\n",
       "\n",
       "    .dataframe tbody tr th {\n",
       "        vertical-align: top;\n",
       "    }\n",
       "\n",
       "    .dataframe thead th {\n",
       "        text-align: right;\n",
       "    }\n",
       "</style>\n",
       "<table border=\"1\" class=\"dataframe\">\n",
       "  <thead>\n",
       "    <tr style=\"text-align: right;\">\n",
       "      <th></th>\n",
       "      <th>age_group</th>\n",
       "      <th>heart_disease</th>\n",
       "      <th>count</th>\n",
       "    </tr>\n",
       "  </thead>\n",
       "  <tbody>\n",
       "    <tr>\n",
       "      <th>0</th>\n",
       "      <td>Young</td>\n",
       "      <td>No</td>\n",
       "      <td>0</td>\n",
       "    </tr>\n",
       "    <tr>\n",
       "      <th>1</th>\n",
       "      <td>Young</td>\n",
       "      <td>Yes</td>\n",
       "      <td>1</td>\n",
       "    </tr>\n",
       "    <tr>\n",
       "      <th>2</th>\n",
       "      <td>Middle-aged</td>\n",
       "      <td>No</td>\n",
       "      <td>29</td>\n",
       "    </tr>\n",
       "    <tr>\n",
       "      <th>3</th>\n",
       "      <td>Middle-aged</td>\n",
       "      <td>Yes</td>\n",
       "      <td>65</td>\n",
       "    </tr>\n",
       "    <tr>\n",
       "      <th>4</th>\n",
       "      <td>Senior</td>\n",
       "      <td>No</td>\n",
       "      <td>108</td>\n",
       "    </tr>\n",
       "    <tr>\n",
       "      <th>5</th>\n",
       "      <td>Senior</td>\n",
       "      <td>Yes</td>\n",
       "      <td>94</td>\n",
       "    </tr>\n",
       "    <tr>\n",
       "      <th>6</th>\n",
       "      <td>Elderly</td>\n",
       "      <td>No</td>\n",
       "      <td>1</td>\n",
       "    </tr>\n",
       "    <tr>\n",
       "      <th>7</th>\n",
       "      <td>Elderly</td>\n",
       "      <td>Yes</td>\n",
       "      <td>5</td>\n",
       "    </tr>\n",
       "  </tbody>\n",
       "</table>\n",
       "</div>"
      ],
      "text/plain": [
       "     age_group heart_disease  count\n",
       "0        Young            No      0\n",
       "1        Young           Yes      1\n",
       "2  Middle-aged            No     29\n",
       "3  Middle-aged           Yes     65\n",
       "4       Senior            No    108\n",
       "5       Senior           Yes     94\n",
       "6      Elderly            No      1\n",
       "7      Elderly           Yes      5"
      ]
     },
     "execution_count": 24,
     "metadata": {},
     "output_type": "execute_result"
    }
   ],
   "source": [
    "# First, count the occurrences of heart disease in each age group\n",
    "# 'heart_disease' is 1 for yes and 0 for no\n",
    "heart_disease_count = df.groupby(['age_group', 'heart_disease']).size().reset_index(name='count')\n",
    "heart_disease_count"
   ]
  },
  {
   "cell_type": "code",
   "execution_count": null,
   "id": "015fa74c",
   "metadata": {},
   "outputs": [],
   "source": []
  },
  {
   "cell_type": "code",
   "execution_count": 25,
   "id": "0ebdaf9f",
   "metadata": {
    "scrolled": true
   },
   "outputs": [
    {
     "data": {
      "image/png": "[encoded data removed]",
      "text/plain": [
       "<Figure size 864x576 with 1 Axes>"
      ]
     },
     "metadata": {
      "needs_background": "light"
     },
     "output_type": "display_data"
    }
   ],
   "source": [
    "# Plotting with Seaborn\n",
    "plt.figure(figsize=(12, 8))\n",
    "sns.barplot(x='age_group', y='count', hue='heart_disease', data=heart_disease_count, palette='Set1')\n",
    "\n",
    "# Add title and labels\n",
    "plt.title('Comparison of Heart Disease Across Age Groups', fontsize=16)\n",
    "plt.xlabel('Age Group', fontsize=12)\n",
    "plt.ylabel('Count', fontsize=12)\n",
    "plt.legend(title='Heart Disease', loc='upper right', labels=['No', 'Yes'])\n",
    "\n",
    "# Display the plot\n",
    "plt.show()"
   ]
  },
  {
   "cell_type": "markdown",
   "id": "5fdeeb25",
   "metadata": {},
   "source": [
    "### Building a Simple Model\n",
    "\n",
    "#### Logistic Regression"
   ]
  },
  {
   "cell_type": "code",
   "execution_count": 26,
   "id": "c18749fb",
   "metadata": {},
   "outputs": [],
   "source": [
    "from sklearn.model_selection import train_test_split\n",
    "from sklearn.linear_model import LogisticRegression\n",
    "from sklearn.metrics import accuracy_score"
   ]
  },
  {
   "cell_type": "code",
   "execution_count": 34,
   "id": "47fbf705",
   "metadata": {},
   "outputs": [
    {
     "name": "stdout",
     "output_type": "stream",
     "text": [
      "Model Accuracy: 0.81\n"
     ]
    }
   ],
   "source": [
    "# Load your dataset\n",
    "df2 = pd.read_csv('heart.csv')\n",
    "\n",
    "# Define your features (X) and target (y)\n",
    "X = df2.drop('output', axis=1)  # Features (drop the target column)\n",
    "y = df2['output']  # Target column\n",
    "\n",
    "# Split the data into training and testing sets\n",
    "X_train, X_test, y_train, y_test = train_test_split(X, y, test_size=0.3, random_state=42)\n",
    "\n",
    "# Train the logistic regression model\n",
    "model = LogisticRegression(max_iter=1000)\n",
    "model.fit(X_train, y_train)\n",
    "\n",
    "# Make predictions and evaluate\n",
    "y_pred = model.predict(X_test)\n",
    "accuracy = accuracy_score(y_test, y_pred)\n",
    "print(f\"Model Accuracy: {accuracy:.2f}\")"
   ]
  },
  {
   "cell_type": "markdown",
   "id": "47738cda",
   "metadata": {},
   "source": [
    "#### The model accuracy of 0.81 means that the logistic regression model correctly predicted whether or not someone has heart disease for 81% of the cases in the dataset. "
   ]
  },
  {
   "cell_type": "markdown",
   "id": "a10f548d",
   "metadata": {},
   "source": [
    "### Confusion matrix "
   ]
  },
  {
   "cell_type": "code",
   "execution_count": 35,
   "id": "ceedf53f",
   "metadata": {},
   "outputs": [],
   "source": [
    "from sklearn.metrics import confusion_matrix"
   ]
  },
  {
   "cell_type": "code",
   "execution_count": 36,
   "id": "df89a214",
   "metadata": {},
   "outputs": [
    {
     "name": "stdout",
     "output_type": "stream",
     "text": [
      "[[32  9]\n",
      " [ 8 42]]\n"
     ]
    }
   ],
   "source": [
    "# Generate confusion matrix\n",
    "cm = confusion_matrix(y_test, y_pred)\n",
    "print(cm)"
   ]
  },
  {
   "cell_type": "code",
   "execution_count": 37,
   "id": "65dbe00f",
   "metadata": {},
   "outputs": [
    {
     "name": "stdout",
     "output_type": "stream",
     "text": [
      "              precision    recall  f1-score   support\n",
      "\n",
      "           0       0.80      0.78      0.79        41\n",
      "           1       0.82      0.84      0.83        50\n",
      "\n",
      "    accuracy                           0.81        91\n",
      "   macro avg       0.81      0.81      0.81        91\n",
      "weighted avg       0.81      0.81      0.81        91\n",
      "\n"
     ]
    }
   ],
   "source": [
    "from sklearn.metrics import classification_report\n",
    "\n",
    "# Get precision, recall, and F1-score\n",
    "print(classification_report(y_test, y_pred))\n"
   ]
  },
  {
   "cell_type": "code",
   "execution_count": null,
   "id": "9f466658",
   "metadata": {},
   "outputs": [],
   "source": []
  }
 ],
 "metadata": {
  "kernelspec": {
   "display_name": "Python 3 (ipykernel)",
   "language": "python",
   "name": "python3"
  },
  "language_info": {
   "codemirror_mode": {
    "name": "ipython",
    "version": 3
   },
   "file_extension": ".py",
   "mimetype": "text/x-python",
   "name": "python",
   "nbconvert_exporter": "python",
   "pygments_lexer": "ipython3",
   "version": "3.9.7"
  }
 },
 "nbformat": 4,
 "nbformat_minor": 5
}
